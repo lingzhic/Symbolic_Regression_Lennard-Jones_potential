{
 "cells": [
  {
   "cell_type": "markdown",
   "metadata": {},
   "source": [
    "# Symbolic Regression Study on Lennard-Jones potential\n",
    "\n",
    "## Overview\n",
    "LJ potential is a classic potential that describe the interaction between two atoms.\n",
    "\n",
    "A classic form of LJ potential is the 12-6 form\n",
    "\n",
    "$$V_{ij}= 4 \\epsilon_{ij}[(\\frac {\\sigma_{ij}} {r_{ij}})^{12} - (\\frac {\\sigma_{ij}} {r_{ij}})^{6}]$$\n",
    "\n",
    "## Goal\n",
    "Fit LJ potential equations using Symbolic regression\n",
    "\n",
    "## LJ potential\n",
    "\n",
    "A typical LJ potential profile is:\n",
    "<p align=center>\n",
    "<img src=\"images/LJ.png\" width=400>\n",
    "<p>\n",
    "\n",
    "And the equation is:\n",
    "\\begin{align}\n",
    " U(r_{ij}) &= E_{ele} + E_{VDW} \\\\ &= \\frac {Q_i Q_j} {4\\pi \\epsilon_0 r_{ij}} + \\frac A {r_{ij}^{12}} + \\frac B {r_{ij}^{6}} \\\\ &= \\frac {Q_i Q_j} {4\\pi \\epsilon_0 r_{ij}} + \\epsilon_{ij}[ (\\frac {R_{min, ij}} {r_{ij}})^{12} - 2(\\frac {R_{min, ij}} {r_{ij}})^{6}] \\\\ &= \\frac {Q_i Q_j} {4\\pi \\epsilon_0 r_{ij}} + 4 \\epsilon_{ij}[(\\frac {\\sigma_{ij}} {r_{ij}})^{12} - (\\frac {\\sigma_{ij}} {r_{ij}})^{6}] \n",
    " \\end{align}\n",
    "\n",
    "where $\\sigma_{ij}$ is the distance where the LJ interaction potential between 2 particles is 0\n",
    "\n",
    "$R_{min,ij}$ is the distance at which the LJ potential has its minimum value\n",
    "\n",
    "$\\epsilon$ is the well depth and a measure of how strongly the two particles attract each other\n",
    "\n",
    "$r$ is the distance of separation between both particles (measured from the center of one particle to the center of the other particle)"
   ]
  },
  {
   "cell_type": "markdown",
   "metadata": {},
   "source": [
    "## Curve fitting\n",
    "### Import packages"
   ]
  },
  {
   "cell_type": "code",
   "execution_count": 1,
   "metadata": {},
   "outputs": [
    {
     "name": "stderr",
     "output_type": "stream",
     "text": [
      "\n",
      "Bad key savefig.frameon in file /Users/Collin/anaconda3/envs/Machine_Learning/lib/python3.7/site-packages/matplotlib/mpl-data/stylelib/_classic_test.mplstyle, line 421 ('savefig.frameon : True')\n",
      "You probably need to get an updated matplotlibrc file from\n",
      "https://github.com/matplotlib/matplotlib/blob/v3.4.3/matplotlibrc.template\n",
      "or from the matplotlib source distribution\n",
      "\n",
      "Bad key verbose.level in file /Users/Collin/anaconda3/envs/Machine_Learning/lib/python3.7/site-packages/matplotlib/mpl-data/stylelib/_classic_test.mplstyle, line 472 ('verbose.level  : silent      # one of silent, helpful, debug, debug-annoying')\n",
      "You probably need to get an updated matplotlibrc file from\n",
      "https://github.com/matplotlib/matplotlib/blob/v3.4.3/matplotlibrc.template\n",
      "or from the matplotlib source distribution\n",
      "\n",
      "Bad key verbose.fileo in file /Users/Collin/anaconda3/envs/Machine_Learning/lib/python3.7/site-packages/matplotlib/mpl-data/stylelib/_classic_test.mplstyle, line 473 ('verbose.fileo  : sys.stdout  # a log filename, sys.stdout or sys.stderr')\n",
      "You probably need to get an updated matplotlibrc file from\n",
      "https://github.com/matplotlib/matplotlib/blob/v3.4.3/matplotlibrc.template\n",
      "or from the matplotlib source distribution\n",
      "In /Users/Collin/anaconda3/envs/Machine_Learning/lib/python3.7/site-packages/matplotlib/mpl-data/stylelib/_classic_test.mplstyle: \n",
      "The text.latex.preview rcparam was deprecated in Matplotlib 3.3 and will be removed two minor releases later.\n",
      "In /Users/Collin/anaconda3/envs/Machine_Learning/lib/python3.7/site-packages/matplotlib/mpl-data/stylelib/_classic_test.mplstyle: \n",
      "The mathtext.fallback_to_cm rcparam was deprecated in Matplotlib 3.3 and will be removed two minor releases later.\n",
      "In /Users/Collin/anaconda3/envs/Machine_Learning/lib/python3.7/site-packages/matplotlib/mpl-data/stylelib/_classic_test.mplstyle: Support for setting the 'mathtext.fallback_to_cm' rcParam is deprecated since 3.3 and will be removed two minor releases later; use 'mathtext.fallback : 'cm' instead.\n",
      "In /Users/Collin/anaconda3/envs/Machine_Learning/lib/python3.7/site-packages/matplotlib/mpl-data/stylelib/_classic_test.mplstyle: \n",
      "The validate_bool_maybe_none function was deprecated in Matplotlib 3.3 and will be removed two minor releases later.\n",
      "In /Users/Collin/anaconda3/envs/Machine_Learning/lib/python3.7/site-packages/matplotlib/mpl-data/stylelib/_classic_test.mplstyle: \n",
      "The savefig.jpeg_quality rcparam was deprecated in Matplotlib 3.3 and will be removed two minor releases later.\n",
      "In /Users/Collin/anaconda3/envs/Machine_Learning/lib/python3.7/site-packages/matplotlib/mpl-data/stylelib/_classic_test.mplstyle: \n",
      "The keymap.all_axes rcparam was deprecated in Matplotlib 3.3 and will be removed two minor releases later.\n",
      "In /Users/Collin/anaconda3/envs/Machine_Learning/lib/python3.7/site-packages/matplotlib/mpl-data/stylelib/_classic_test.mplstyle: \n",
      "The animation.avconv_path rcparam was deprecated in Matplotlib 3.3 and will be removed two minor releases later.\n",
      "In /Users/Collin/anaconda3/envs/Machine_Learning/lib/python3.7/site-packages/matplotlib/mpl-data/stylelib/_classic_test.mplstyle: \n",
      "The animation.avconv_args rcparam was deprecated in Matplotlib 3.3 and will be removed two minor releases later.\n"
     ]
    },
    {
     "name": "stdout",
     "output_type": "stream",
     "text": [
      "Populating the interactive namespace from numpy and matplotlib\n"
     ]
    }
   ],
   "source": [
    "#loading packages & dependencies\n",
    "#When the %pylab magic function is entered at the IPython prompt, it triggers the import of various modules within Matplotlib.\n",
    "%pylab inline \n",
    "from gplearn.genetic import SymbolicRegressor\n",
    "from gplearn.functions import make_function\n",
    "from gplearn.fitness import make_fitness\n",
    "from mpl_toolkits.mplot3d import Axes3D\n",
    "import matplotlib.pyplot as plt\n",
    "import numpy as np\n",
    "import pickle\n",
    "from scipy.optimize import curve_fit\n",
    "\n",
    "# import a symbolic mathematic conversion tool package\n",
    "from sympy import *\n",
    "import graphviz"
   ]
  },
  {
   "cell_type": "markdown",
   "metadata": {},
   "source": [
    "### Prepare the LJ potential function"
   ]
  },
  {
   "cell_type": "code",
   "execution_count": 2,
   "metadata": {},
   "outputs": [
    {
     "data": {
      "text/latex": [
       "$\\displaystyle 4 \\epsilon \\left(- \\frac{\\sigma^{6}}{r^{6}} + \\frac{\\sigma^{12}}{r^{12}}\\right)$"
      ],
      "text/plain": [
       "4*epsilon*(-sigma**6/r**6 + sigma**12/r**12)"
      ]
     },
     "execution_count": 2,
     "metadata": {},
     "output_type": "execute_result"
    }
   ],
   "source": [
    "# A LJ function\n",
    "def lennard_jones(r):\n",
    "    epsilon = 0.17\n",
    "    sigma = 3.25\n",
    "    return 4 * epsilon * ((sigma/r)**12 - (sigma/r)**6)\n",
    "\n",
    "eq = '4 * epsilon * (pow_12(sigma/r) - pow_6(sigma/r))'\n",
    "\n",
    "converter = {\n",
    "    'sub': lambda x, y : x - y,\n",
    "    'div': lambda x, y : x / y,\n",
    "    'mul': lambda x, y : x * y,\n",
    "    'add': lambda x, y : x + y,\n",
    "    'pow_6':lambda x: x**6,\n",
    "    'pow_12':lambda x: x**12\n",
    "}\n",
    "\n",
    "sympify(eq, locals=converter)"
   ]
  },
  {
   "cell_type": "code",
   "execution_count": 3,
   "metadata": {},
   "outputs": [
    {
     "data": {
      "image/png": "[encoded data removed]",
      "text/plain": [
       "<Figure size 432x288 with 1 Axes>"
      ]
     },
     "metadata": {
      "needs_background": "light"
     },
     "output_type": "display_data"
    }
   ],
   "source": [
    "r = np.arange(3, 5, 0.001)       # Reaction coordinate\n",
    "y_truth = lennard_jones(r)       # true function value\n",
    "\n",
    "dash_line_x = r\n",
    "dash_line_y = np.array([0] * len(r))\n",
    "\n",
    "X_train = r\n",
    "y_train = y_truth\n",
    "\n",
    "plt.title(\"LJ input plot\", fontsize=18)\n",
    "plt.xlabel('$Reaction coordinate (r)$')\n",
    "plt.ylabel('$Potential (V)$')\n",
    "plt.plot(dash_line_x, dash_line_y, color='lightgrey')\n",
    "plt.plot(X_train, y_train, color='red')\n",
    "plt.show()"
   ]
  },
  {
   "cell_type": "markdown",
   "metadata": {},
   "source": [
    "## Symbolic Regression\n",
    "### Define training function"
   ]
  },
  {
   "cell_type": "code",
   "execution_count": 4,
   "metadata": {},
   "outputs": [],
   "source": [
    "# Define functions\n",
    "def my_power(b:float, n:float):\n",
    "    with np.errstate(divide='ignore', invalid='ignore'):\n",
    "        return np.where(np.abs(b.any()) < 20 and np.abs(n.any()) < 13, np.power(b, n), 0.)\n",
    "\n",
    "def _epsilon_div(x):\n",
    "    epsilon = 0.17\n",
    "    with np.errstate(divide='ignore', invalid='ignore'):\n",
    "        return np.where(np.abs(x) > 0.001, np.divide(epsilon, x), 1.)\n",
    "\n",
    "def _sigma_div(x):\n",
    "    sigma = 3.25\n",
    "    with np.errstate(divide='ignore', invalid='ignore'):\n",
    "        return np.where(np.abs(x) > 0.001, np.divide(sigma, x), 1.)\n",
    "\n",
    "def m_pow_2(x):\n",
    "    with np.errstate(over='ignore'):\n",
    "        return np.where(np.abs(x) < 10, np.power(x, 2), 0.)\n",
    "\n",
    "def m_pow_3(x):\n",
    "    with np.errstate(over='ignore'):\n",
    "        return np.where(np.abs(x) < 10, np.power(x, 3), 0.)\n",
    "\n",
    "def m_pow_6(x):\n",
    "    with np.errstate(over='ignore'):\n",
    "        return np.where(np.abs(x) < 10, np.power(x, 6), 0.)\n",
    "\n",
    "def m_pow_12(x):\n",
    "    with np.errstate(over='ignore'):\n",
    "        return np.where(np.abs(x) < 10, np.power(x, 12), 0.)\n",
    "\n",
    "my_pow = make_function(function=my_power, name='pow', arity=2)\n",
    "pow_2 = make_function(function=m_pow_2, name='pow_2', arity=1)\n",
    "pow_3 = make_function(function=m_pow_3, name='pow_3', arity=1)\n",
    "pow_6 = make_function(function=m_pow_6, name='pow_6', arity=1)\n",
    "pow_12 = make_function(function=m_pow_12, name='pow_12', arity=1)\n",
    "epsilon_div = make_function(function=_epsilon_div, name='epsilon_mul', arity=1)\n",
    "sigma_div = make_function(function=_sigma_div, name='sigma_div', arity=1)\n",
    "\n",
    "# Define all the available operators in the symbolic regression\n",
    "func_set = ['add', 'sub', 'mul', 'div', pow_6, pow_12, epsilon_div, sigma_div]\n",
    "# func_set = ['add', 'sub', 'mul', 'div', pow_2, pow_3, epsilon_div, sigma_div]\n",
    "\n",
    "func_name_set = []\n",
    "for func in func_set:\n",
    "    if not isinstance(func, str):\n",
    "        func = func.name\n",
    "    func_name_set.append(func)"
   ]
  },
  {
   "cell_type": "markdown",
   "metadata": {},
   "source": [
    "### Train the model"
   ]
  },
  {
   "cell_type": "code",
   "execution_count": 5,
   "metadata": {},
   "outputs": [
    {
     "name": "stdout",
     "output_type": "stream",
     "text": [
      "    |   Population Average    |             Best Individual              |\n",
      "---- ------------------------- ------------------------------------------ ----------\n",
      " Gen   Length          Fitness   Length          Fitness      OOB Fitness  Time Left\n"
     ]
    },
    {
     "name": "stderr",
     "output_type": "stream",
     "text": [
      "/Users/Collin/anaconda3/envs/Machine_Learning/lib/python3.7/site-packages/ipykernel_launcher.py:14: RuntimeWarning: overflow encountered in true_divide\n",
      "  \n",
      "/Users/Collin/anaconda3/envs/Machine_Learning/lib/python3.7/site-packages/gplearn/functions.py:127: RuntimeWarning: overflow encountered in true_divide\n",
      "  return np.where(np.abs(x2) > 0.001, np.divide(x1, x2), 1.)\n",
      "/Users/Collin/anaconda3/envs/Machine_Learning/lib/python3.7/site-packages/ipykernel_launcher.py:9: RuntimeWarning: overflow encountered in true_divide\n",
      "  if __name__ == '__main__':\n"
     ]
    },
    {
     "name": "stdout",
     "output_type": "stream",
     "text": [
      "   0    15.94      1.81373e+31        7       0.00575413       0.00484048      2.88m\n",
      "   1     5.20      2.95914e+20        7       0.00556921       0.00650474      1.98m\n",
      "   2     4.72      5.99232e+19        7       0.00549682       0.00715628      1.80m\n",
      "   3     4.60      5.52875e+19        7       0.00539022       0.00811564      1.61m\n",
      "   4     5.31      5.28369e+20        9       0.00380393       0.00472599      1.66m\n",
      "   5     6.80      8.51761e+19        9       0.00380038       0.00475796      1.88m\n",
      "   6     7.19      3.29359e+21        9       0.00369059       0.00574599      1.84m\n",
      "   7     7.86      4.32989e+20        9      0.000662723      0.000737848      1.78m\n"
     ]
    },
    {
     "data": {
      "text/plain": [
       "SymbolicRegressor(const_range=(-1, 1),\n",
       "                  function_set=['add', 'sub', 'mul', 'div',\n",
       "                                <gplearn.functions._Function object at 0x1272daf90>,\n",
       "                                <gplearn.functions._Function object at 0x1272daf50>,\n",
       "                                <gplearn.functions._Function object at 0x1272dae90>,\n",
       "                                <gplearn.functions._Function object at 0x1272daed0>],\n",
       "                  generations=30, max_samples=0.9, metric='mse',\n",
       "                  p_crossover=0.5, p_hoist_mutation=0.16666666666666666,\n",
       "                  p_point_mutation=0.1666666666666667,\n",
       "                  p_subtree_mutation=0.16666666666666666,\n",
       "                  parsimony_coefficient=0.0005, population_size=5000,\n",
       "                  random_state=0, stopping_criteria=0.001, verbose=1)"
      ]
     },
     "execution_count": 5,
     "metadata": {},
     "output_type": "execute_result"
    }
   ],
   "source": [
    "# Compile a symbolic regressor\n",
    "est_gp = SymbolicRegressor(population_size=5000,     # The number of programs in each generation\n",
    "                           const_range=(-1, 1),\n",
    "                           function_set=func_set,\n",
    "                           generations=30, \n",
    "                           metric='mse',             # cost function, need to get a suitable cost function\n",
    "                           stopping_criteria=0.001,  # The required metric value required in order to stop evolution early.\n",
    "                           p_crossover=0.5, \n",
    "                           p_subtree_mutation=(1-0.5)/3,\n",
    "                           p_hoist_mutation=(1-0.5)/3,   # 0.05, The probability of performing hoist mutation on a tournament winner. Hoist mutation takes the winner of a tournament and selects a random subtree from it. A random subtree of that subtree is then selected and this is ‘hoisted’ into the original subtrees location to form an offspring in the next generation. This method helps to control bloat.\n",
    "                           p_point_mutation=1-0.5-(1-0.5)/3-(1-0.5)/3, \n",
    "                           max_samples=0.9, verbose=1,\n",
    "                           tournament_size=20,\n",
    "                           parsimony_coefficient=0.0005, random_state=0)\n",
    "\n",
    "# X is an array of shape (n_samples, n_features), if there is only one feature, then reshape the one D array into (-1, 1)\n",
    "est_gp.fit(X_train.reshape(-1, 1), y_train)"
   ]
  },
  {
   "cell_type": "markdown",
   "metadata": {},
   "source": [
    "### Get output equation and score"
   ]
  },
  {
   "cell_type": "code",
   "execution_count": 6,
   "metadata": {},
   "outputs": [
    {
     "name": "stdout",
     "output_type": "stream",
     "text": [
      "The symbolic regression score is: 0.9691\n",
      "The math equation is:\n",
      "mul(0.790, sub(pow_12(sigma_div(X0)), pow_6(sigma_div(X0))))\n"
     ]
    },
    {
     "data": {
      "text/latex": [
       "$\\displaystyle - \\frac{930.951931152344}{X_{0}^{6}} + \\frac{1097052.52926111}{X_{0}^{12}}$"
      ],
      "text/plain": [
       "-930.951931152344/X0**6 + 1097052.52926111/X0**12"
      ]
     },
     "execution_count": 6,
     "metadata": {},
     "output_type": "execute_result"
    }
   ],
   "source": [
    "# Get the score of this training\n",
    "score_gp = est_gp.score(X_train.reshape(-1, 1), y_train)\n",
    "print(f\"The symbolic regression score is: {score_gp:.4f}\")\n",
    "\n",
    "converter = {\n",
    "    'sub': lambda x, y : x - y,\n",
    "    'div': lambda x, y : x / y,\n",
    "    'mul': lambda x, y : x * y,\n",
    "    'add': lambda x, y : x + y,\n",
    "    'pow_2':lambda x: x**2,\n",
    "    'pow_3':lambda x: x**3,\n",
    "    'pow_6':lambda x: x**6,\n",
    "    'pow_12':lambda x: x**12,\n",
    "    'epsilon_mul': lambda x: 0.17 * x,\n",
    "    'sigma_div': lambda x: 3.25 / x,\n",
    "}\n",
    "\n",
    "print(\"The math equation is:\")\n",
    "print(str(est_gp._program))\n",
    "sympify(str(est_gp._program), locals=converter)"
   ]
  },
  {
   "cell_type": "markdown",
   "metadata": {},
   "source": [
    "### Compare with the real LJ function"
   ]
  },
  {
   "cell_type": "code",
   "execution_count": 7,
   "metadata": {},
   "outputs": [
    {
     "data": {
      "text/latex": [
       "$\\displaystyle - \\frac{801.325712890625}{r^{6}} + \\frac{944298.379617159}{r^{12}}$"
      ],
      "text/plain": [
       "-801.325712890625/r**6 + 944298.379617159/r**12"
      ]
     },
     "execution_count": 7,
     "metadata": {},
     "output_type": "execute_result"
    }
   ],
   "source": [
    "eq = '4 * 0.17 * (pow_12(3.25/r) - pow_6(3.25/r))'\n",
    "\n",
    "converter = {\n",
    "    'sub': lambda x, y : x - y,\n",
    "    'div': lambda x, y : x / y,\n",
    "    'mul': lambda x, y : x * y,\n",
    "    'add': lambda x, y : x + y,\n",
    "    'pow_6':lambda x: x**6,\n",
    "    'pow_12':lambda x: x**12\n",
    "}\n",
    "\n",
    "sympify(eq, locals=converter)"
   ]
  },
  {
   "cell_type": "markdown",
   "metadata": {},
   "source": [
    "### Define testing dataset, plot test curve and save the log"
   ]
  },
  {
   "cell_type": "code",
   "execution_count": 8,
   "metadata": {},
   "outputs": [
    {
     "name": "stdout",
     "output_type": "stream",
     "text": [
      "/Users/Collin/PycharmProjects/Symbolic_Regression_Lennard-Jones_potential/LJ_fitting_outputs\n",
      "/Users/Collin/PycharmProjects/Symbolic_Regression_Lennard-Jones_potential\n"
     ]
    },
    {
     "data": {
      "image/png": "[encoded data removed]",
      "text/plain": [
       "<Figure size 432x288 with 1 Axes>"
      ]
     },
     "metadata": {
      "needs_background": "light"
     },
     "output_type": "display_data"
    }
   ],
   "source": [
    "X_test = X_train\n",
    "Y_test = y_train\n",
    "\n",
    "# Get the prediction\n",
    "y_predict = est_gp.predict(X_test.reshape(-1, 1))\n",
    "\n",
    "plt.plot(X_test, Y_test, marker='^', label='True_data')\n",
    "plt.plot(X_test, y_predict, marker='v', label='Predicted_data')\n",
    "\n",
    "plt.title(\"PMF plot\", fontsize=18)\n",
    "plt.xlabel('Reaction coordinate (Å)', fontsize=18)\n",
    "plt.ylabel('PMF $(K_B T)$', fontsize=18)\n",
    "plt.legend()\n",
    "# plt.text(5.0, 6.0, f'$score = $ {score_gp:.4f}', size=14)\n",
    "\n",
    "# Save output in an individual directory\n",
    "%cd LJ_fitting_outputs/\n",
    "trial_name = 'lj_fitting_x_3_to_5'\n",
    "\n",
    "plt.savefig(f'{trial_name}.png', dpi=300)\n",
    "with open(trial_name + '.log', 'a') as f:\n",
    "    f.write(f'\\n\\nThe current trial is: \\n{trial_name}\\n\\n')\n",
    "    f.write(f'The employed function set is: \\n{func_name_set}\\n\\n')\n",
    "    f.write(f\"The symbolic regression score is: {score_gp}\\n\\n\")\n",
    "    f.write(f'The equation is:\\n {str(est_gp._program)}\\n\\n')\n",
    "    f.write(\"Model parameters are:\\n\")\n",
    "    f.write(f\"The stopping criteria is: {est_gp.stopping_criteria}\\n\\n\")\n",
    "    f.write(f\"Population size -> {est_gp.population_size}\\n\")\n",
    "    f.write(f\"# of generations -> {est_gp.generations}\\n\")\n",
    "    f.write(f\"const_range -> {est_gp.const_range}\\n\")\n",
    "    f.write(f\"p_crossover -> {est_gp.p_crossover}\\n\")\n",
    "    f.write(f\"p_subtree_mutation -> {est_gp.p_subtree_mutation}\\n\")\n",
    "    f.write(f\"p_point_mutation -> {est_gp.p_point_mutation}\\n\")\n",
    "    f.write(f\"p_hoist_mutation -> {est_gp.p_hoist_mutation}\\n\")\n",
    "    f.write(f\"parsimony_coefficient -> {est_gp.parsimony_coefficient}\\n\")\n",
    "\n",
    "# pickle the trained model\n",
    "with open(trial_name + f'_pickle_model', 'wb') as pickle_model_file:\n",
    "    pickle.dump(est_gp, pickle_model_file)\n",
    "\n",
    "%cd ../\n",
    "\n",
    "plt.show()"
   ]
  },
  {
   "cell_type": "code",
   "execution_count": 9,
   "metadata": {},
   "outputs": [
    {
     "data": {
      "image/svg+xml": "<?xml version=\"1.0\" encoding=\"UTF-8\" standalone=\"no\"?>\n<!DOCTYPE svg PUBLIC \"-//W3C//DTD SVG 1.1//EN\"\n \"http://www.w3.org/Graphics/SVG/1.1/DTD/svg11.dtd\">\n<!-- Generated by graphviz version 2.40.1 (20161225.0304)\n -->\n<!-- Title: program Pages: 1 -->\n<svg width=\"220pt\" height=\"332pt\"\n viewBox=\"0.00 0.00 220.49 332.00\" xmlns=\"http://www.w3.org/2000/svg\" xmlns:xlink=\"http://www.w3.org/1999/xlink\">\n<g id=\"graph0\" class=\"graph\" transform=\"scale(1 1) rotate(0) translate(4 328)\">\n<title>program</title>\n<polygon fill=\"#ffffff\" stroke=\"transparent\" points=\"-4,4 -4,-328 216.4913,-328 216.4913,4 -4,4\"/>\n<!-- 0 -->\n<g id=\"node1\" class=\"node\">\n<title>0</title>\n<ellipse fill=\"#136ed4\" stroke=\"#000000\" cx=\"70.7457\" cy=\"-306\" rx=\"27\" ry=\"18\"/>\n<text text-anchor=\"middle\" x=\"70.7457\" y=\"-302.3\" font-family=\"Times,serif\" font-size=\"14.00\" fill=\"#000000\">mul</text>\n</g>\n<!-- 1 -->\n<g id=\"node2\" class=\"node\">\n<title>1</title>\n<ellipse fill=\"#60a6f6\" stroke=\"#000000\" cx=\"32.7457\" cy=\"-234\" rx=\"31.3957\" ry=\"18\"/>\n<text text-anchor=\"middle\" x=\"32.7457\" y=\"-230.3\" font-family=\"Times,serif\" font-size=\"14.00\" fill=\"#000000\">0.790</text>\n</g>\n<!-- 0&#45;&gt;1 -->\n<g id=\"edge8\" class=\"edge\">\n<title>0&#45;&gt;1</title>\n<path fill=\"none\" stroke=\"#000000\" d=\"M61.7402,-288.937C57.2629,-280.4537 51.7505,-270.0092 46.7386,-260.513\"/>\n<polygon fill=\"#000000\" stroke=\"#000000\" points=\"49.7135,-258.6509 41.9505,-251.4407 43.5228,-261.9182 49.7135,-258.6509\"/>\n</g>\n<!-- 2 -->\n<g id=\"node3\" class=\"node\">\n<title>2</title>\n<ellipse fill=\"#136ed4\" stroke=\"#000000\" cx=\"108.7457\" cy=\"-234\" rx=\"27\" ry=\"18\"/>\n<text text-anchor=\"middle\" x=\"108.7457\" y=\"-230.3\" font-family=\"Times,serif\" font-size=\"14.00\" fill=\"#000000\">sub</text>\n</g>\n<!-- 0&#45;&gt;2 -->\n<g id=\"edge7\" class=\"edge\">\n<title>0&#45;&gt;2</title>\n<path fill=\"none\" stroke=\"#000000\" d=\"M79.7511,-288.937C84.2284,-280.4537 89.7408,-270.0092 94.7527,-260.513\"/>\n<polygon fill=\"#000000\" stroke=\"#000000\" points=\"97.9686,-261.9182 99.5409,-251.4407 91.7779,-258.6509 97.9686,-261.9182\"/>\n</g>\n<!-- 3 -->\n<g id=\"node4\" class=\"node\">\n<title>3</title>\n<ellipse fill=\"#136ed4\" stroke=\"#000000\" cx=\"58.7457\" cy=\"-162\" rx=\"40.0939\" ry=\"18\"/>\n<text text-anchor=\"middle\" x=\"58.7457\" y=\"-158.3\" font-family=\"Times,serif\" font-size=\"14.00\" fill=\"#000000\">pow_12</text>\n</g>\n<!-- 2&#45;&gt;3 -->\n<g id=\"edge6\" class=\"edge\">\n<title>2&#45;&gt;3</title>\n<path fill=\"none\" stroke=\"#000000\" d=\"M97.3999,-217.6621C91.2493,-208.8052 83.5081,-197.6579 76.5719,-187.6697\"/>\n<polygon fill=\"#000000\" stroke=\"#000000\" points=\"79.3226,-185.4946 70.7438,-179.2773 73.573,-189.4874 79.3226,-185.4946\"/>\n</g>\n<!-- 6 -->\n<g id=\"node7\" class=\"node\">\n<title>6</title>\n<ellipse fill=\"#136ed4\" stroke=\"#000000\" cx=\"157.7457\" cy=\"-162\" rx=\"35.9954\" ry=\"18\"/>\n<text text-anchor=\"middle\" x=\"157.7457\" y=\"-158.3\" font-family=\"Times,serif\" font-size=\"14.00\" fill=\"#000000\">pow_6</text>\n</g>\n<!-- 2&#45;&gt;6 -->\n<g id=\"edge5\" class=\"edge\">\n<title>2&#45;&gt;6</title>\n<path fill=\"none\" stroke=\"#000000\" d=\"M120.1104,-217.3008C126.1455,-208.4329 133.6904,-197.3465 140.437,-187.4332\"/>\n<polygon fill=\"#000000\" stroke=\"#000000\" points=\"143.3695,-189.345 146.1023,-179.1086 137.5825,-185.4066 143.3695,-189.345\"/>\n</g>\n<!-- 4 -->\n<g id=\"node5\" class=\"node\">\n<title>4</title>\n<ellipse fill=\"#136ed4\" stroke=\"#000000\" cx=\"48.7457\" cy=\"-90\" rx=\"48.9926\" ry=\"18\"/>\n<text text-anchor=\"middle\" x=\"48.7457\" y=\"-86.3\" font-family=\"Times,serif\" font-size=\"14.00\" fill=\"#000000\">sigma_div</text>\n</g>\n<!-- 3&#45;&gt;4 -->\n<g id=\"edge2\" class=\"edge\">\n<title>3&#45;&gt;4</title>\n<path fill=\"none\" stroke=\"#000000\" d=\"M56.2223,-143.8314C55.1528,-136.131 53.881,-126.9743 52.6924,-118.4166\"/>\n<polygon fill=\"#000000\" stroke=\"#000000\" points=\"56.1456,-117.8367 51.3031,-108.4133 49.2121,-118.7997 56.1456,-117.8367\"/>\n</g>\n<!-- 5 -->\n<g id=\"node6\" class=\"node\">\n<title>5</title>\n<ellipse fill=\"#60a6f6\" stroke=\"#000000\" cx=\"48.7457\" cy=\"-18\" rx=\"27\" ry=\"18\"/>\n<text text-anchor=\"middle\" x=\"48.7457\" y=\"-14.3\" font-family=\"Times,serif\" font-size=\"14.00\" fill=\"#000000\">X0</text>\n</g>\n<!-- 4&#45;&gt;5 -->\n<g id=\"edge1\" class=\"edge\">\n<title>4&#45;&gt;5</title>\n<path fill=\"none\" stroke=\"#000000\" d=\"M48.7457,-71.8314C48.7457,-64.131 48.7457,-54.9743 48.7457,-46.4166\"/>\n<polygon fill=\"#000000\" stroke=\"#000000\" points=\"52.2458,-46.4132 48.7457,-36.4133 45.2458,-46.4133 52.2458,-46.4132\"/>\n</g>\n<!-- 7 -->\n<g id=\"node8\" class=\"node\">\n<title>7</title>\n<ellipse fill=\"#136ed4\" stroke=\"#000000\" cx=\"163.7457\" cy=\"-90\" rx=\"48.9926\" ry=\"18\"/>\n<text text-anchor=\"middle\" x=\"163.7457\" y=\"-86.3\" font-family=\"Times,serif\" font-size=\"14.00\" fill=\"#000000\">sigma_div</text>\n</g>\n<!-- 6&#45;&gt;7 -->\n<g id=\"edge4\" class=\"edge\">\n<title>6&#45;&gt;7</title>\n<path fill=\"none\" stroke=\"#000000\" d=\"M159.2597,-143.8314C159.9014,-136.131 160.6645,-126.9743 161.3776,-118.4166\"/>\n<polygon fill=\"#000000\" stroke=\"#000000\" points=\"164.8686,-118.6694 162.2112,-108.4133 157.8928,-118.088 164.8686,-118.6694\"/>\n</g>\n<!-- 8 -->\n<g id=\"node9\" class=\"node\">\n<title>8</title>\n<ellipse fill=\"#60a6f6\" stroke=\"#000000\" cx=\"163.7457\" cy=\"-18\" rx=\"27\" ry=\"18\"/>\n<text text-anchor=\"middle\" x=\"163.7457\" y=\"-14.3\" font-family=\"Times,serif\" font-size=\"14.00\" fill=\"#000000\">X0</text>\n</g>\n<!-- 7&#45;&gt;8 -->\n<g id=\"edge3\" class=\"edge\">\n<title>7&#45;&gt;8</title>\n<path fill=\"none\" stroke=\"#000000\" d=\"M163.7457,-71.8314C163.7457,-64.131 163.7457,-54.9743 163.7457,-46.4166\"/>\n<polygon fill=\"#000000\" stroke=\"#000000\" points=\"167.2458,-46.4132 163.7457,-36.4133 160.2458,-46.4133 167.2458,-46.4132\"/>\n</g>\n</g>\n</svg>\n",
      "text/plain": [
       "<graphviz.sources.Source at 0x12756f490>"
      ]
     },
     "execution_count": 9,
     "metadata": {},
     "output_type": "execute_result"
    }
   ],
   "source": [
    "vis_data = est_gp._program.export_graphviz()\n",
    "graph = graphviz.Source(vis_data)\n",
    "graph.render('Tree_charts/test', format='png', cleanup=True)\n",
    "graph"
   ]
  },
  {
   "cell_type": "markdown",
   "metadata": {},
   "source": [
    "### Reload the pickled model"
   ]
  },
  {
   "cell_type": "code",
   "execution_count": 10,
   "metadata": {},
   "outputs": [
    {
     "name": "stdout",
     "output_type": "stream",
     "text": [
      "The symbolic regression score is: 0.9832\n"
     ]
    }
   ],
   "source": [
    "pickled_file = 'LJ_fitting_outputs/lj_fitting_pickle_model'\n",
    "with open(pickled_file, 'rb') as f:\n",
    "    restart_gp = pickle.load(f)\n",
    "\n",
    "# Get the score of this training\n",
    "new_score_gp = restart_gp.score(X_train.reshape(-1, 1), y_train)\n",
    "print(f\"The symbolic regression score is: {new_score_gp:.4f}\")"
   ]
  },
  {
   "cell_type": "markdown",
   "metadata": {},
   "source": [
    "## Polynomial Fitting method"
   ]
  },
  {
   "cell_type": "code",
   "execution_count": 11,
   "metadata": {},
   "outputs": [
    {
     "name": "stdout",
     "output_type": "stream",
     "text": [
      "The parameters are: [12.    6.    0.17  3.25]\n"
     ]
    },
    {
     "data": {
      "image/png": "[encoded data removed]",
      "text/plain": [
       "<Figure size 432x288 with 1 Axes>"
      ]
     },
     "metadata": {
      "needs_background": "light"
     },
     "output_type": "display_data"
    }
   ],
   "source": [
    "x = np.arange(3, 5.0, 0.001)     # x value\n",
    "y_truth = lennard_jones(x)       # true function value\n",
    "\n",
    "def lj_complicated(x, pow1, pow2, epsilon, sigma):\n",
    "    return 4 * epsilon * ((sigma/x)**pow1 - (sigma/x)**pow2)\n",
    "\n",
    "x_data = x\n",
    "y_data = y_truth\n",
    "\n",
    "popt, pcov = curve_fit(lj_complicated, x_data, y_data)\n",
    "print(f\"The parameters are: {popt}\")\n",
    "\n",
    "dash_line_x = x\n",
    "dash_line_y = np.array([0] * len(x))\n",
    "\n",
    "plt.plot(x_data, y_data, 'b-', marker='^', label='raw_data')\n",
    "plt.plot(x_data, lj_complicated(x_data, *popt), 'r-', linewidth=2, label='predicted_data')\n",
    "plt.plot(dash_line_x, dash_line_y, color='lightgrey')\n",
    "plt.xlabel('Reaction coordinate (r)')\n",
    "plt.ylabel('Potential (V)')\n",
    "plt.legend()\n",
    "plt.show()"
   ]
  }
 ],
 "metadata": {
  "interpreter": {
   "hash": "e003047e200babb8cb738162d71285cc1e56eb6168fa0a721a8362669f704d37"
  },
  "kernelspec": {
   "display_name": "Python 3.7.11 64-bit ('Machine_Learning': conda)",
   "language": "python",
   "name": "python3"
  },
  "language_info": {
   "codemirror_mode": {
    "name": "ipython",
    "version": 3
   },
   "file_extension": ".py",
   "mimetype": "text/x-python",
   "name": "python",
   "nbconvert_exporter": "python",
   "pygments_lexer": "ipython3",
   "version": "3.7.7"
  },
  "orig_nbformat": 4
 },
 "nbformat": 4,
 "nbformat_minor": 2
}
